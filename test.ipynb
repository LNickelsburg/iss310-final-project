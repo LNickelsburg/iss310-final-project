{
 "cells": [
  {
   "cell_type": "markdown",
   "metadata": {},
   "source": [
    "in terminal: \n",
    "\n",
    "pip install requests pandas matpolotlib seaborn geopandas spotipy"
   ]
  },
  {
   "cell_type": "markdown",
   "metadata": {},
   "source": [
    "### Fetch user listening data\n"
   ]
  },
  {
   "cell_type": "code",
   "execution_count": null,
   "metadata": {},
   "outputs": [],
   "source": [
    "import spotipy\n",
    "from spotipy.oauth2 import SpotifyOAuth\n",
    "import os\n",
    "client_id = '8905232f473446d8ac9e3879435d6050'\n",
    "client_secret = '754c21e4da6c443aba0a098f2e4dac9d'\n",
    "redirect_uri = 'http://localhost:8080/callback'\n",
    "scope = 'user-top-read'\n",
    "\n",
    "limit = 10\n",
    "offset = 0\n",
    "time_range = 'short_term'"
   ]
  },
  {
   "cell_type": "code",
   "execution_count": 7,
   "metadata": {},
   "outputs": [
    {
     "name": "stdout",
     "output_type": "stream",
     "text": [
      "Visit this URL to authorize the app: https://accounts.spotify.com/authorize?client_id=8905232f473446d8ac9e3879435d6050&response_type=code&redirect_uri=http%3A%2F%2Flocalhost%3A8080%2Fcallback&scope=user-top-read\n"
     ]
    }
   ],
   "source": [
    "\n",
    "\n",
    "sp_oauth = SpotifyOAuth(client_id=client_id,\n",
    "                        client_secret=client_secret,\n",
    "                        redirect_uri=redirect_uri,\n",
    "                        scope=scope)\n",
    "\n",
    "# Generate the authorization URL\n",
    "auth_url = sp_oauth.get_authorize_url()\n",
    "print(f\"Visit this URL to authorize the app: {auth_url}\")\n",
    "\n"
   ]
  },
  {
   "cell_type": "code",
   "execution_count": null,
   "metadata": {},
   "outputs": [
    {
     "name": "stderr",
     "output_type": "stream",
     "text": [
      "C:\\Users\\lnick\\AppData\\Local\\Temp\\ipykernel_22548\\1936255379.py:3: DeprecationWarning: You're using 'as_dict = True'.get_access_token will return the token string directly in future versions. Please adjust your code accordingly, or use get_cached_token instead.\n",
      "  token_info = sp_oauth.get_access_token(code)\n"
     ]
    },
    {
     "name": "stdout",
     "output_type": "stream",
     "text": [
      "Access Token: BQBEK1_VsvZKXdYYFSOmcCDq9y0tCwvflpbvecGoAU6L0dX_4-g6X-zuHFvksU2v-3nH3lXqfFgPPwv5iTTW8PDTbhRvEZ_EykTTeAPWEOrRwE-27UpYD7PnoDpfE53tlfGtIa1nVD9znpQCaUnexFIOTqvWzDOpvAgU9h6_uvEXy-IH7oj4PEslD5Wzgw\n"
     ]
    }
   ],
   "source": [
    "code = input(\"AQDWR2E504WFyM7Nu5KB-fFNzbu2rnFiDjvrGax2L5l8Oq7JmCDpSbu6XKFWyn_KOl2b1YwcOW-zBq3KtXQ_VoxxLOEHURLPmW1jRhzGYyEdapYbkr395zU6yO2oHb-v-98qqlPNKd2Gyd8Xc2XZoghIfbNwzHQK3uZAZcJGskPzVAaVGtJUtZpjfGFQ7xN1Hg\")\n",
    "\n",
    "token_info = sp_oauth.get_access_token(code)\n",
    "\n",
    "# Extract the access token\n",
    "access_token = token_info[\"access_token\"]"
   ]
  },
  {
   "cell_type": "code",
   "execution_count": 10,
   "metadata": {},
   "outputs": [],
   "source": [
    "token_info = sp_oauth.refresh_access_token(token_info[\"refresh_token\"])\n",
    "access_token = token_info[\"access_token\"]\n"
   ]
  },
  {
   "cell_type": "code",
   "execution_count": 11,
   "metadata": {},
   "outputs": [
    {
     "name": "stdout",
     "output_type": "stream",
     "text": [
      "1. The Mountain Goats - Genres: anti-folk, chamber pop, folk punk, indie rock, lo-fi, melancholia, new weird america\n",
      "2. John Craigie - Genres: indie folk, new americana, western americana\n",
      "3. TK & The Holy Know-Nothings - Genres: alternative country, modern folk rock, southern americana\n",
      "4. Chappell Roan - Genres: indie pop\n",
      "5. Colter Wall - Genres: canadian americana, canadian contemporary country, outlaw country, saskatchewan indie\n",
      "6. Taylor Swift - Genres: pop\n",
      "7. Hiatus Kaiyote - Genres: alternative r&b, australian r&b, indie soul, shiver pop\n",
      "8. Hozier - Genres: irish singer-songwriter, modern rock, pop, pov: indie\n",
      "9. Bo Burnham - Genres: comic, pov: indie\n",
      "10. Orville Peck - Genres: alternative country, queer country\n"
     ]
    }
   ],
   "source": [
    "sp = spotipy.Spotify(auth=access_token)\n",
    "\n",
    "# Fetch user's top artists\n",
    "top_artists = sp.current_user_top_artists(limit=10)\n",
    "for idx, artist in enumerate(top_artists[\"items\"]):\n",
    "    print(f\"{idx + 1}. {artist['name']} - Genres: {', '.join(artist['genres'])}\")\n"
   ]
  },
  {
   "cell_type": "code",
   "execution_count": 12,
   "metadata": {},
   "outputs": [],
   "source": [
    "results = sp.current_user_top_artists(limit=50, time_range='medium_term')\n",
    "genres = [artist['genres'] for artist in results['items']]\n"
   ]
  },
  {
   "cell_type": "code",
   "execution_count": 17,
   "metadata": {},
   "outputs": [
    {
     "name": "stdout",
     "output_type": "stream",
     "text": [
      "                            0                              1  \\\n",
      "0                   anti-folk                    chamber pop   \n",
      "1                  indie folk                  new americana   \n",
      "2         alternative country               modern folk rock   \n",
      "3                   indie pop                           None   \n",
      "4          canadian americana  canadian contemporary country   \n",
      "5                         pop                           None   \n",
      "6             alternative r&b                 australian r&b   \n",
      "7     irish singer-songwriter                    modern rock   \n",
      "8                       comic                     pov: indie   \n",
      "9         alternative country                  queer country   \n",
      "10                    art pop                      candy pop   \n",
      "11           austin americana                      austindie   \n",
      "12                countrygaze                      indie pop   \n",
      "13             lgbtq+ hip hop                       neo soul   \n",
      "14                       None                           None   \n",
      "15                       None                           None   \n",
      "16                       None                           None   \n",
      "17      classical performance         orchestral performance   \n",
      "18                chamber pop                     indie folk   \n",
      "19                chamber pop                           folk   \n",
      "20                 indie rock                          lo-fi   \n",
      "21             australian pop                            pop   \n",
      "22               classic rock                      glam rock   \n",
      "23             brooklyn indie                     pov: indie   \n",
      "24           alternative rock                     dance rock   \n",
      "25                  gauze pop                   indietronica   \n",
      "26                   folk-pop                    modern rock   \n",
      "27                    art pop                    chamber pop   \n",
      "28                countrygaze                      indie pop   \n",
      "29               afrofuturism                           None   \n",
      "30                chamber pop                     indie folk   \n",
      "31                       None                           None   \n",
      "32            roots americana                           None   \n",
      "33                   broadway                           None   \n",
      "34                 pov: indie                           None   \n",
      "35            asheville indie                       folk-pop   \n",
      "36                 pov: indie                           None   \n",
      "37  american modern classical                      classical   \n",
      "38                    hip hop                            rap   \n",
      "39                 pov: indie                           None   \n",
      "40                       None                           None   \n",
      "41                     grunge                 permanent wave   \n",
      "42                 glitchcore                       hyperpop   \n",
      "43                 album rock                       art rock   \n",
      "44                   broadway                           None   \n",
      "45                modern rock                     pov: indie   \n",
      "46                   folk-pop               stomp and holler   \n",
      "47                       None                           None   \n",
      "48               classic rock                   country rock   \n",
      "49                   afrobeat                        afropop   \n",
      "\n",
      "                         2                   3                     4  \\\n",
      "0                folk punk          indie rock                 lo-fi   \n",
      "1        western americana                None                  None   \n",
      "2       southern americana                None                  None   \n",
      "3                     None                None                  None   \n",
      "4           outlaw country  saskatchewan indie                  None   \n",
      "5                     None                None                  None   \n",
      "6               indie soul          shiver pop                  None   \n",
      "7                      pop          pov: indie                  None   \n",
      "8                     None                None                  None   \n",
      "9                     None                None                  None   \n",
      "10            metropopolis                 pop                uk pop   \n",
      "11              indie folk       new americana         seattle indie   \n",
      "12        modern dream pop                None                  None   \n",
      "13                    None                None                  None   \n",
      "14                    None                None                  None   \n",
      "15                    None                None                  None   \n",
      "16                    None                None                  None   \n",
      "17                    None                None                  None   \n",
      "18              indie rock       new americana      stomp and holler   \n",
      "19              indie folk          indie rock          indietronica   \n",
      "20               noise pop    olympia wa indie              shoegaze   \n",
      "21               viral pop                None                  None   \n",
      "22                    rock                None                  None   \n",
      "23                    None                None                  None   \n",
      "24             modern rock      permanent wave                  rock   \n",
      "25             modern rock          pov: indie            shiver pop   \n",
      "26              neo mellow    stomp and holler                  None   \n",
      "27              indie rock   singer-songwriter      stomp and holler   \n",
      "28              small room                None                  None   \n",
      "29                    None                None                  None   \n",
      "30              indie rock        indietronica           modern rock   \n",
      "31                    None                None                  None   \n",
      "32                    None                None                  None   \n",
      "33                    None                None                  None   \n",
      "34                    None                None                  None   \n",
      "35              indie folk       new americana  north carolina roots   \n",
      "36                    None                None                  None   \n",
      "37  orchestral performance                None                  None   \n",
      "38                    None                None                  None   \n",
      "39                    None                None                  None   \n",
      "40                    None                None                  None   \n",
      "41                    rock                None                  None   \n",
      "42                    None                None                  None   \n",
      "43            classic rock    progressive rock      psychedelic rock   \n",
      "44                    None                None                  None   \n",
      "45                    None                None                  None   \n",
      "46                    None                None                  None   \n",
      "47                    None                None                  None   \n",
      "48                    folk           folk rock                  rock   \n",
      "49              ethio-jazz               world                  None   \n",
      "\n",
      "                    5                  6                  7                 8  \n",
      "0         melancholia  new weird america               None              None  \n",
      "1                None               None               None              None  \n",
      "2                None               None               None              None  \n",
      "3                None               None               None              None  \n",
      "4                None               None               None              None  \n",
      "5                None               None               None              None  \n",
      "6                None               None               None              None  \n",
      "7                None               None               None              None  \n",
      "8                None               None               None              None  \n",
      "9                None               None               None              None  \n",
      "10               None               None               None              None  \n",
      "11   stomp and holler               None               None              None  \n",
      "12               None               None               None              None  \n",
      "13               None               None               None              None  \n",
      "14               None               None               None              None  \n",
      "15               None               None               None              None  \n",
      "16               None               None               None              None  \n",
      "17               None               None               None              None  \n",
      "18               None               None               None              None  \n",
      "19        modern rock      seattle indie  singer-songwriter  stomp and holler  \n",
      "20       slacker rock               None               None              None  \n",
      "21               None               None               None              None  \n",
      "22               None               None               None              None  \n",
      "23               None               None               None              None  \n",
      "24               None               None               None              None  \n",
      "25               None               None               None              None  \n",
      "26               None               None               None              None  \n",
      "27               None               None               None              None  \n",
      "28               None               None               None              None  \n",
      "29               None               None               None              None  \n",
      "30               None               None               None              None  \n",
      "31               None               None               None              None  \n",
      "32               None               None               None              None  \n",
      "33               None               None               None              None  \n",
      "34               None               None               None              None  \n",
      "35  stomp and flutter   stomp and holler               None              None  \n",
      "36               None               None               None              None  \n",
      "37               None               None               None              None  \n",
      "38               None               None               None              None  \n",
      "39               None               None               None              None  \n",
      "40               None               None               None              None  \n",
      "41               None               None               None              None  \n",
      "42               None               None               None              None  \n",
      "43               rock     symphonic rock               None              None  \n",
      "44               None               None               None              None  \n",
      "45               None               None               None              None  \n",
      "46               None               None               None              None  \n",
      "47               None               None               None              None  \n",
      "48         roots rock  singer-songwriter               None              None  \n",
      "49               None               None               None              None  \n"
     ]
    }
   ],
   "source": [
    "import pandas as pd\n",
    "\n",
    "spotify_data = pd.DataFrame(genres)\n",
    "\n",
    "print(spotify_data)"
   ]
  }
 ],
 "metadata": {
  "kernelspec": {
   "display_name": ".venv",
   "language": "python",
   "name": "python3"
  },
  "language_info": {
   "codemirror_mode": {
    "name": "ipython",
    "version": 3
   },
   "file_extension": ".py",
   "mimetype": "text/x-python",
   "name": "python",
   "nbconvert_exporter": "python",
   "pygments_lexer": "ipython3",
   "version": "3.12.3"
  }
 },
 "nbformat": 4,
 "nbformat_minor": 2
}
